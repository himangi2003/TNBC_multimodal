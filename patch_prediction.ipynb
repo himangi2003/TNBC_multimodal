{
 "cells": [
  {
   "cell_type": "code",
   "execution_count": 2,
   "id": "5e8d69a8-7b89-4ea8-b052-da500fa3d189",
   "metadata": {},
   "outputs": [],
   "source": [
    "from matplotlib.colors import ListedColormap\n",
    "from PIL import Image\n",
    "import logging\n",
    "import os\n",
    "import numpy as np\n",
    "import matplotlib.pyplot as plt\n",
    "import matplotlib.pyplot as plt\n",
    "import matplotlib.colors as mcolors\n",
    "import numpy as np\n",
    "import os\n",
    "import cv2\n",
    "import numpy as np\n",
    "import matplotlib.pyplot as plt\n",
    "from PIL import Image\n",
    "from tiatoolbox.tools.patchextraction import SlidingWindowPatchExtractor\n",
    "\n",
    "from tiatoolbox.wsicore.wsireader import WSIReader\n",
    "import pandas as pd\n",
    "import glob"
   ]
  },
  {
   "cell_type": "code",
   "execution_count": 3,
   "id": "71e403ea-1300-4dbc-960a-54b949a54f07",
   "metadata": {},
   "outputs": [],
   "source": [
    "import glob\n",
    "png_paths = sorted(glob.glob(os.path.join(\"clean_tiles\", \"*.png\")))"
   ]
  },
  {
   "cell_type": "code",
   "execution_count": 7,
   "id": "d1b9ecb6-b9a0-4ead-a6ff-c9094ba55d4b",
   "metadata": {},
   "outputs": [],
   "source": [
    "from tiatoolbox import logger\n",
    "from tiatoolbox.models.engine.nucleus_instance_segmentor import NucleusInstanceSegmentor\n",
    "from tiatoolbox.utils.misc import download_data, imread\n",
    "import logging\n",
    "import warnings\n",
    "\n",
    "if logging.getLogger().hasHandlers():\n",
    "    logging.getLogger().handlers.clear()\n",
    "\n",
    "import cv2\n",
    "import joblib\n",
    "import matplotlib as mpl\n",
    "import matplotlib.pyplot as plt\n",
    "import numpy as np\n",
    "# We need this function to visualize the nuclear predictions\n",
    "from tiatoolbox.utils.visualization import (\n",
    "    overlay_prediction_contours,\n",
    ")\n",
    "from tiatoolbox.wsicore.wsireader import WSIReader\n",
    "import warnings\n",
    "if logging.getLogger().hasHandlers():\n",
    "    logging.getLogger().handlers.clear()\n",
    "warnings.filterwarnings(\"ignore\")\n",
    "mpl.rcParams[\"figure.dpi\"] = 300  # for high resolution figure in notebook\n",
    "mpl.rcParams[\"figure.facecolor\"] = \"white\"  # To make sure text is visible in dark mode\n",
    "plt.rcParams.update({\"font.size\": 5})\n",
    "import glob"
   ]
  },
  {
   "cell_type": "code",
   "execution_count": 8,
   "id": "991b9ffb-f689-4d55-9a9e-0d2aabccb4d1",
   "metadata": {},
   "outputs": [
    {
     "name": "stderr",
     "output_type": "stream",
     "text": [
      "No GPU detected or cuda not installed, torch.compile is only supported on selected NVIDIA GPUs. Speedup numbers may be lower than expected.\n"
     ]
    }
   ],
   "source": [
    "# Tile prediction\n",
    "inst_segmentor = NucleusInstanceSegmentor(\n",
    "    pretrained_model=\"hovernet_fast-pannuke\",\n",
    "    num_loader_workers=2,\n",
    "    num_postproc_workers=2,\n",
    "    batch_size=4,\n",
    ")"
   ]
  },
  {
   "cell_type": "code",
   "execution_count": 9,
   "id": "7db72f30-78f9-473c-81cd-ccd43e212d6d",
   "metadata": {},
   "outputs": [
    {
     "ename": "NameError",
     "evalue": "name 'device' is not defined",
     "output_type": "error",
     "traceback": [
      "\u001b[0;31m---------------------------------------------------------------------------\u001b[0m",
      "\u001b[0;31mNameError\u001b[0m                                 Traceback (most recent call last)",
      "Cell \u001b[0;32mIn[9], line 5\u001b[0m\n\u001b[1;32m      1\u001b[0m tile_output \u001b[38;5;241m=\u001b[39m inst_segmentor\u001b[38;5;241m.\u001b[39mpredict(\n\u001b[1;32m      2\u001b[0m     png_paths,\n\u001b[1;32m      3\u001b[0m     save_dir\u001b[38;5;241m=\u001b[39m\u001b[38;5;124m\"\u001b[39m\u001b[38;5;124mclean_tile_output2/\u001b[39m\u001b[38;5;124m\"\u001b[39m,\n\u001b[1;32m      4\u001b[0m     mode\u001b[38;5;241m=\u001b[39m\u001b[38;5;124m\"\u001b[39m\u001b[38;5;124mtile\u001b[39m\u001b[38;5;124m\"\u001b[39m,\n\u001b[0;32m----> 5\u001b[0m     device\u001b[38;5;241m=\u001b[39m\u001b[43mdevice\u001b[49m,\n\u001b[1;32m      6\u001b[0m     crash_on_exception\u001b[38;5;241m=\u001b[39m\u001b[38;5;28;01mTrue\u001b[39;00m,\n\u001b[1;32m      7\u001b[0m )\n",
      "\u001b[0;31mNameError\u001b[0m: name 'device' is not defined"
     ]
    }
   ],
   "source": [
    "tile_output = inst_segmentor.predict(\n",
    "    png_paths,\n",
    "    save_dir=\"clean_tile_output2/\",\n",
    "    mode=\"tile\",\n",
    "    device=\"cpu\",\n",
    "    crash_on_exception=True,\n",
    ")"
   ]
  },
  {
   "cell_type": "code",
   "execution_count": null,
   "id": "a1b3c58d-e96f-4073-b686-02290105c03a",
   "metadata": {},
   "outputs": [],
   "source": []
  }
 ],
 "metadata": {
  "kernelspec": {
   "display_name": "Python 3 (ipykernel)",
   "language": "python",
   "name": "python3"
  },
  "language_info": {
   "codemirror_mode": {
    "name": "ipython",
    "version": 3
   },
   "file_extension": ".py",
   "mimetype": "text/x-python",
   "name": "python",
   "nbconvert_exporter": "python",
   "pygments_lexer": "ipython3",
   "version": "3.10.18"
  }
 },
 "nbformat": 4,
 "nbformat_minor": 5
}
