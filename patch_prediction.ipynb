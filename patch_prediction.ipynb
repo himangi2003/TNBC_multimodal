{
 "cells": [
  {
   "cell_type": "code",
   "execution_count": 5,
   "id": "5e8d69a8-7b89-4ea8-b052-da500fa3d189",
   "metadata": {},
   "outputs": [],
   "source": [
    "from matplotlib.colors import ListedColormap\n",
    "from PIL import Image\n",
    "import logging\n",
    "import os\n",
    "import numpy as np\n",
    "import matplotlib.pyplot as plt\n",
    "import matplotlib.pyplot as plt\n",
    "import matplotlib.colors as mcolors\n",
    "import numpy as np\n",
    "import os\n",
    "import cv2\n",
    "import numpy as np\n",
    "import matplotlib.pyplot as plt\n",
    "from PIL import Image\n",
    "from tiatoolbox.tools.patchextraction import SlidingWindowPatchExtractor\n",
    "\n",
    "from tiatoolbox.wsicore.wsireader import WSIReader\n",
    "import pandas as pd\n",
    "import glob"
   ]
  },
  {
   "cell_type": "code",
   "execution_count": 6,
   "id": "71e403ea-1300-4dbc-960a-54b949a54f07",
   "metadata": {},
   "outputs": [],
   "source": [
    "import glob\n",
    "png_paths = sorted(glob.glob(os.path.join(\"clean_tiles\", \"*.png\")))\n",
    "import torch\n",
    "device = torch.device(\"cuda\" if torch.cuda.is_available() else \"cpu\")"
   ]
  },
  {
   "cell_type": "code",
   "execution_count": 7,
   "id": "d1b9ecb6-b9a0-4ead-a6ff-c9094ba55d4b",
   "metadata": {},
   "outputs": [],
   "source": [
    "from tiatoolbox import logger\n",
    "from tiatoolbox.models.engine.nucleus_instance_segmentor import NucleusInstanceSegmentor\n",
    "from tiatoolbox.utils.misc import download_data, imread\n",
    "import logging\n",
    "import warnings\n",
    "\n",
    "if logging.getLogger().hasHandlers():\n",
    "    logging.getLogger().handlers.clear()\n",
    "\n",
    "import cv2\n",
    "import joblib\n",
    "import matplotlib as mpl\n",
    "import matplotlib.pyplot as plt\n",
    "import numpy as np\n",
    "# We need this function to visualize the nuclear predictions\n",
    "from tiatoolbox.utils.visualization import (\n",
    "    overlay_prediction_contours,\n",
    ")\n",
    "from tiatoolbox.wsicore.wsireader import WSIReader\n",
    "import warnings\n",
    "if logging.getLogger().hasHandlers():\n",
    "    logging.getLogger().handlers.clear()\n",
    "warnings.filterwarnings(\"ignore\")\n",
    "mpl.rcParams[\"figure.dpi\"] = 300  # for high resolution figure in notebook\n",
    "mpl.rcParams[\"figure.facecolor\"] = \"white\"  # To make sure text is visible in dark mode\n",
    "plt.rcParams.update({\"font.size\": 5})\n",
    "import glob"
   ]
  },
  {
   "cell_type": "code",
   "execution_count": 8,
   "id": "991b9ffb-f689-4d55-9a9e-0d2aabccb4d1",
   "metadata": {},
   "outputs": [],
   "source": [
    "# Tile prediction\n",
    "inst_segmentor = NucleusInstanceSegmentor(\n",
    "    pretrained_model=\"hovernet_fast-pannuke\",\n",
    "    num_loader_workers=2,\n",
    "    num_postproc_workers=2,\n",
    "    batch_size=4,\n",
    ")"
   ]
  },
  {
   "cell_type": "code",
   "execution_count": null,
   "id": "7db72f30-78f9-473c-81cd-ccd43e212d6d",
   "metadata": {},
   "outputs": [
    {
     "name": "stderr",
     "output_type": "stream",
     "text": [
      "WSIPatchDataset only reads image tile at `units=\"baseline\"`. Resolutions will be converted to baseline value.\n",
      "WSIPatchDataset only reads image tile at `units=\"baseline\"`. Resolutions will be converted to baseline value.\n",
      "Raw data is None.\n",
      "Unknown scale (no objective_power or mpp)\n",
      "Raw data is None.\n",
      "%|                                      | 0/1 [00:00<?, ?it/s]"
     ]
    }
   ],
   "source": [
    "tile_output = inst_segmentor.predict(\n",
    "    png_paths,\n",
    "    save_dir=\"clean_tile_output2/\",\n",
    "    mode=\"tile\",\n",
    "    device=device,\n",
    "    crash_on_exception=False\n",
    ")"
   ]
  },
  {
   "cell_type": "code",
   "execution_count": null,
   "id": "a1b3c58d-e96f-4073-b686-02290105c03a",
   "metadata": {},
   "outputs": [],
   "source": []
  }
 ],
 "metadata": {
  "kernelspec": {
   "display_name": "Python 3 (ipykernel)",
   "language": "python",
   "name": "python3"
  },
  "language_info": {
   "codemirror_mode": {
    "name": "ipython",
    "version": 3
   },
   "file_extension": ".py",
   "mimetype": "text/x-python",
   "name": "python",
   "nbconvert_exporter": "python",
   "pygments_lexer": "ipython3",
   "version": "3.10.18"
  }
 },
 "nbformat": 4,
 "nbformat_minor": 5
}
