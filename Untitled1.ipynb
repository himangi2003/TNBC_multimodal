{
 "cells": [
  {
   "cell_type": "code",
   "execution_count": 2,
   "id": "25007673-82e6-4d1a-bed4-7f44acd78ef0",
   "metadata": {},
   "outputs": [
    {
     "ename": "ModuleNotFoundError",
     "evalue": "No module named 'histolab.handlers'",
     "output_type": "error",
     "traceback": [
      "\u001b[0;31m---------------------------------------------------------------------------\u001b[0m",
      "\u001b[0;31mModuleNotFoundError\u001b[0m                       Traceback (most recent call last)",
      "Cell \u001b[0;32mIn[2], line 7\u001b[0m\n\u001b[1;32m      5\u001b[0m \u001b[38;5;28;01mfrom\u001b[39;00m\u001b[38;5;250m \u001b[39m\u001b[38;5;21;01mhistolab\u001b[39;00m\u001b[38;5;21;01m.\u001b[39;00m\u001b[38;5;21;01mslide\u001b[39;00m\u001b[38;5;250m \u001b[39m\u001b[38;5;28;01mimport\u001b[39;00m Slide\n\u001b[1;32m      6\u001b[0m \u001b[38;5;28;01mfrom\u001b[39;00m\u001b[38;5;250m \u001b[39m\u001b[38;5;21;01mhistolab\u001b[39;00m\u001b[38;5;21;01m.\u001b[39;00m\u001b[38;5;21;01mtiler\u001b[39;00m\u001b[38;5;250m \u001b[39m\u001b[38;5;28;01mimport\u001b[39;00m GridTiler\n\u001b[0;32m----> 7\u001b[0m \u001b[38;5;28;01mfrom\u001b[39;00m\u001b[38;5;250m \u001b[39m\u001b[38;5;21;01mhistolab\u001b[39;00m\u001b[38;5;21;01m.\u001b[39;00m\u001b[38;5;21;01mhandlers\u001b[39;00m\u001b[38;5;250m \u001b[39m\u001b[38;5;28;01mimport\u001b[39;00m GridPatchHandler\n\u001b[1;32m      8\u001b[0m \u001b[38;5;28;01mfrom\u001b[39;00m\u001b[38;5;250m \u001b[39m\u001b[38;5;21;01mskimage\u001b[39;00m\u001b[38;5;21;01m.\u001b[39;00m\u001b[38;5;21;01mcolor\u001b[39;00m\u001b[38;5;250m \u001b[39m\u001b[38;5;28;01mimport\u001b[39;00m rgb2hed\n\u001b[1;32m      9\u001b[0m \u001b[38;5;28;01mfrom\u001b[39;00m\u001b[38;5;250m \u001b[39m\u001b[38;5;21;01mskimage\u001b[39;00m\u001b[38;5;21;01m.\u001b[39;00m\u001b[38;5;21;01mfilters\u001b[39;00m\u001b[38;5;250m \u001b[39m\u001b[38;5;28;01mimport\u001b[39;00m threshold_otsu, gaussian\n",
      "\u001b[0;31mModuleNotFoundError\u001b[0m: No module named 'histolab.handlers'"
     ]
    }
   ],
   "source": [
    "import os\n",
    "import numpy as np\n",
    "from PIL import Image\n",
    "import cv2\n",
    "from histolab.slide import Slide\n",
    "from histolab.tiler import GridTiler\n",
    "from histolab.handlers import GridPatchHandler\n",
    "from skimage.color import rgb2hed\n",
    "from skimage.filters import threshold_otsu, gaussian\n",
    "from skimage.morphology import remove_small_objects, remove_small_holes\n",
    "from skimage.measure import label, regionprops\n",
    "import matplotlib.pyplot as plt\n",
    "\n",
    "# ======================\n",
    "# Tissue Mask Function\n",
    "# ======================\n",
    "def get_tissue_mask_basic(rgb_image, deconvolve_first=True, sigma=1.5, min_size=300, plot=False):\n",
    "    if deconvolve_first:\n",
    "        hed = rgb2hed(rgb_image)\n",
    "        hema = -hed[:, :, 0]\n",
    "        hema_norm = (hema - np.min(hema)) / (np.max(hema) - np.min(hema))\n",
    "        gray_image = hema_norm\n",
    "    else:\n",
    "        gray_image = cv2.cvtColor(rgb_image, cv2.COLOR_RGB2GRAY) / 255.0\n",
    "\n",
    "    smooth = gaussian(gray_image, sigma=sigma)\n",
    "    thresh = threshold_otsu(smooth)\n",
    "    binary_mask = smooth > thresh\n",
    "    cleaned = remove_small_objects(binary_mask, min_size=min_size)\n",
    "    cleaned = remove_small_holes(cleaned, area_threshold=min_size)\n",
    "    labeled = label(cleaned)\n",
    "\n",
    "    if plot:\n",
    "        fig, axs = plt.subplots(1, 5, figsize=(20, 4))\n",
    "        axs[0].imshow(rgb_image)\n",
    "        axs[0].set_title('Original RGB')\n",
    "        axs[1].imshow(gray_image, cmap='gray')\n",
    "        axs[1].set_title('Hematoxylin / Grayscale')\n",
    "        axs[2].imshow(smooth, cmap='gray')\n",
    "        axs[2].set_title('Gaussian Smoothed')\n",
    "        axs[3].imshow(binary_mask, cmap='gray')\n",
    "        axs[3].set_title('Otsu Threshold')\n",
    "        axs[4].imshow(cleaned, cmap='gray')\n",
    "        axs[4].set_title('Cleaned Tissue Mask')\n",
    "        for ax in axs:\n",
    "            ax.axis('off')\n",
    "        plt.tight_layout()\n",
    "        plt.show()\n",
    "\n",
    "    return labeled, cleaned.astype(np.uint8)\n",
    "\n",
    "# ======================\n",
    "# Pen Mark Removal\n",
    "# ======================\n",
    "def detect_pen_mask(rgb_img):\n",
    "    bgr = cv2.cvtColor(rgb_img, cv2.COLOR_RGB2BGR)\n",
    "    hsv = cv2.cvtColor(bgr, cv2.COLOR_BGR2HSV)\n",
    "    lower_blue = np.array([100, 50, 50])\n",
    "    upper_blue = np.array([130, 255, 255])\n",
    "    mask = cv2.inRange(hsv, lower_blue, upper_blue)\n",
    "    kernel = np.ones((3, 3), np.uint8)\n",
    "    return cv2.dilate(mask, kernel, iterations=1)\n",
    "\n",
    "def inpaint_patch(patch):\n",
    "    pen_mask = detect_pen_mask(patch)\n",
    "    bgr = cv2.cvtColor(patch, cv2.COLOR_RGB2BGR)\n",
    "    inpainted = cv2.inpaint(bgr, pen_mask, 3, cv2.INPAINT_TELEA)\n",
    "    return cv2.cvtColor(inpainted, cv2.COLOR_BGR2RGB)\n",
    "\n",
    "# ======================\n",
    "# Main Pipeline Function\n",
    "# ======================\n",
    "def process_wsi(wsi_path, output_root, patch_size=224):\n",
    "    slide = Slide(wsi_path, processed_path=\"processed\")\n",
    "    slide_name = slide.name\n",
    "    print(f\"Processing: {slide_name}\")\n",
    "\n",
    "    # Step 1: Compute tissue mask on thumbnail\n",
    "    thumb = np.array(slide.thumbnail)\n",
    "    labeled, tissue_mask = get_tissue_mask_basic(thumb, plot=True)\n",
    "\n",
    "    # Step 2: Get bounding box of largest tissue area\n",
    "    props = regionprops(labeled)\n",
    "    if not props:\n",
    "        print(\"❌ No tissue found.\")\n",
    "        return\n",
    "    largest = max(props, key=lambda r: r.area)\n",
    "    minr, minc, maxr, maxc = largest.bbox\n",
    "\n",
    "    full_w, full_h = slide.dimensions\n",
    "    scale_x = full_w / thumb.shape[1]\n",
    "    scale_y = full_h / thumb.shape[0]\n",
    "\n",
    "    x_min = int(minc * scale_x)\n",
    "    y_min = int(minr * scale_y)\n",
    "    x_max = int(maxc * scale_x)\n",
    "    y_max = int(maxr * scale_y)\n",
    "\n",
    "    print(f\"🧠 Tissue Bounding Box (level 0): ({x_min}, {y_min}) to ({x_max}, {y_max})\")\n",
    "\n",
    "    # Step 3: Set up tiler and handler\n",
    "    tiler = GridTiler(\n",
    "        tile_size=(patch_size, patch_size),\n",
    "        level=0,\n",
    "        check_tissue=True,\n",
    "        tissue_percent=70,\n",
    "        pixel_overlap=0\n",
    "    )\n",
    "\n",
    "    class CleanedPatchHandler(GridPatchHandler):\n",
    "        def process(self, patch, location, slide):\n",
    "            patch_np = np.array(patch)\n",
    "            if np.mean(patch_np) > 240:\n",
    "                return  # Skip mostly white patches\n",
    "            cleaned = inpaint_patch(patch_np)\n",
    "            cleaned_img = Image.fromarray(cleaned)\n",
    "            save_name = f\"{location[0]}_{location[1]}.png\"\n",
    "            cleaned_img.save(os.path.join(self.output_path, save_name))\n",
    "\n",
    "    patch_output_dir = os.path.join(output_root, slide_name)\n",
    "    os.makedirs(patch_output_dir, exist_ok=True)\n",
    "\n",
    "    handler = CleanedPatchHandler(output_path=patch_output_dir)\n",
    "\n",
    "    # Step 4: Extract patches inside bounding box\n",
    "    tiler.extract(slide, handler=handler, regions=[(x_min, y_min, x_max, y_max)])\n",
    "\n",
    "\n"
   ]
  },
  {
   "cell_type": "code",
   "execution_count": 2,
   "id": "5f921a1f-4819-422f-b44a-4e45932305bf",
   "metadata": {},
   "outputs": [
    {
     "name": "stdout",
     "output_type": "stream",
     "text": [
      "/cluster/home/srivash/miniforge3/envs/histolab/bin/python3.10\n"
     ]
    }
   ],
   "source": [
    "import sys\n",
    "print(sys.executable)\n"
   ]
  },
  {
   "cell_type": "code",
   "execution_count": 3,
   "id": "b1cefad4-d54c-4dd2-8bda-7d6e5b11c984",
   "metadata": {},
   "outputs": [
    {
     "name": "stdout",
     "output_type": "stream",
     "text": [
      "Name: histolab\n",
      "Version: 0.7.0\n",
      "Summary: Python library for Digital Pathology Image Processing\n",
      "Home-page: https://github.com/histolab/histolab\n",
      "Author: E. Arbitrio, N. Bussola, A. Marcolini\n",
      "Author-email: \n",
      "License: Apache-2.0\n",
      "Location: /cluster/home/srivash/miniforge3/envs/histolab/lib/python3.10/site-packages\n",
      "Requires: certifi, numpy, openslide-python, Pillow, scikit-image, scipy\n",
      "Required-by: \n",
      "Note: you may need to restart the kernel to use updated packages.\n"
     ]
    }
   ],
   "source": [
    "pip show histolab\n"
   ]
  },
  {
   "cell_type": "code",
   "execution_count": null,
   "id": "a00828a9-41be-46c3-b31f-232c67eeb4e4",
   "metadata": {},
   "outputs": [],
   "source": [
    "import os\n",
    "data_path = '/lab/deasylab3/Jung/tiger/'\n",
    "dir_TIFF_images = data_path + \"/wsirois/wsi-level-annotations/images/\"\n",
    "\n",
    "\n",
    "imgs_names = os.listdir(dir_TIFF_images)\n",
    "imgs_names.sort()\n",
    "imgs_names = [i for i in imgs_names if i.startswith('TCGA')]  \n",
    "wsi_path = dir_TIFF_images + imgs_names[0]\n",
    "wsi_path"
   ]
  },
  {
   "cell_type": "code",
   "execution_count": null,
   "id": "574bc825-88b7-4c2a-9c31-4f1fb21fa1f2",
   "metadata": {},
   "outputs": [],
   "source": [
    "# ======================\n",
    "# Run Pipeline\n",
    "# ======================\n",
    "if __name__ == \"__main__\":\n",
    "    data_path = '/lab/deasylab3/Jung/tiger/wsirois/wsi-level-annotations/images/'\n",
    "    output_path = 'cleaned_patches_grid/'\n",
    "    os.makedirs(output_path, exist_ok=True)\n",
    "\n",
    "    process_wsi_with_grid(os.path.join(data_path, file), output_path)"
   ]
  }
 ],
 "metadata": {
  "kernelspec": {
   "display_name": "Python 3 (ipykernel)",
   "language": "python",
   "name": "python3"
  },
  "language_info": {
   "codemirror_mode": {
    "name": "ipython",
    "version": 3
   },
   "file_extension": ".py",
   "mimetype": "text/x-python",
   "name": "python",
   "nbconvert_exporter": "python",
   "pygments_lexer": "ipython3",
   "version": "3.10.18"
  }
 },
 "nbformat": 4,
 "nbformat_minor": 5
}
